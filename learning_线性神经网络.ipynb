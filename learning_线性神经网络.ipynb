{
 "cells": [
  {
   "cell_type": "markdown",
   "metadata": {},
   "source": [
    "##### 从头开始实现线性回归"
   ]
  },
  {
   "cell_type": "code",
   "execution_count": null,
   "metadata": {},
   "outputs": [],
   "source": [
    "import random\n",
    "import torch\n",
    "from d2l import torch as d2l"
   ]
  },
  {
   "cell_type": "code",
   "execution_count": null,
   "metadata": {},
   "outputs": [],
   "source": [
    "def synthetic_data(w, b, num_samples):\n",
    "    \"\"\"生成y = Xw + b噪声\"\"\"\n",
    "    X = torch.normal(0, 1, (num_samples, len(w)))\n",
    "    y = torch.matmul(X, w) + b\n",
    "    y += torch.normal(0, 0.01, y.shape)\n",
    "    return X, y.reshape((-1, 1))\n",
    "\n",
    "true_w = torch.tensor([2, -3.4])\n",
    "true_b = 4.2\n",
    "features, labels = synthetic_data(true_w, true_b, 1000)\n",
    "\n",
    "d2l.set_figsize()\n",
    "d2l.plt.scatter(features[:, (1)].detach().numpy(), labels.detach().numpy(), 1)"
   ]
  },
  {
   "cell_type": "code",
   "execution_count": null,
   "metadata": {},
   "outputs": [],
   "source": [
    "def data_iter(batch_size, features, labels):\n",
    "    num_examples = len(features)\n",
    "    indices = list(range(num_examples))  # 生成顺序索引\n",
    "    random.shuffle(indices)  # 随机打乱索引\n",
    "    for i in range(0, num_examples, batch_size):\n",
    "        batch_indices = torch.tensor(indices[i: min(i + batch_size, num_examples)])  # min当num_examples不能被整除时取到\n",
    "        yield features[batch_indices], labels[batch_indices]  # 根据随机索引取值\n",
    "\n",
    "batch_size = 10\n",
    "\n",
    "# for X, y  in data_iter(batch_size, features, labels):\n",
    "#     print(X, '\\n', y)\n",
    "#     break"
   ]
  },
  {
   "cell_type": "code",
   "execution_count": null,
   "metadata": {},
   "outputs": [],
   "source": [
    "w = torch.normal(0, 0.01, size = (2, 1), requires_grad=True)  # 这个用正态分布随机生成， size即为生成的tensor的大小\n",
    "b = torch.zeros(1, requires_grad=True)  # requires_grad用于反向传播自动求导\n",
    "\n",
    "def linreg(X, w, b):\n",
    "    \"\"\"线性回归模型\"\"\"\n",
    "    return torch.matmul(X, w) + b  # torch.matmul是torch的tensor乘法\n",
    "\n",
    "def squared_loss(y_hat, y):\n",
    "    \"\"\"均方损失\"\"\"\n",
    "    return (y_hat - y.reshape(y_hat.shape)) ** 2 / 2\n",
    "\n",
    "def sgd(params, lr, batch_size):\n",
    "    \"\"\"小批量随机梯度下降\"\"\"\n",
    "    with torch.no_grad():  # torch.no_grad函数下所有均不会自动求导，覆盖原先required_grad\n",
    "        for param in params:\n",
    "            param -= lr * param.grad / batch_size\n",
    "            param.grad.zero_()"
   ]
  },
  {
   "cell_type": "code",
   "execution_count": null,
   "metadata": {},
   "outputs": [],
   "source": [
    "lr = 0.03\n",
    "num_epochs = 10\n",
    "net = linreg\n",
    "loss = squared_loss\n",
    "\n",
    "for epoch in range(num_epochs):\n",
    "    for X, y in data_iter(batch_size, features, labels):\n",
    "        l = loss(net(X, w, b), y)\n",
    "        l.sum().backward()\n",
    "        sgd([w, b], lr, batch_size)\n",
    "    with torch.no_grad():\n",
    "        train_l = loss(net(features, w, b), labels)\n",
    "        print(f'epoch {epoch + 1}, loss {float(train_l.mean()):f}')\n",
    "\n",
    "print(f'w的估计误差: {true_w - w.reshape(true_w.shape)}')\n",
    "print(f'b的估计误差: {true_b - b}')"
   ]
  },
  {
   "cell_type": "markdown",
   "metadata": {},
   "source": [
    "### 线性回归简单实现"
   ]
  },
  {
   "cell_type": "code",
   "execution_count": 1,
   "metadata": {},
   "outputs": [],
   "source": [
    "import torch\n",
    "from torch.utils import data\n",
    "from d2l import torch as d2l\n",
    "from torch import nn"
   ]
  },
  {
   "cell_type": "code",
   "execution_count": 2,
   "metadata": {},
   "outputs": [],
   "source": [
    "true_w = torch.tensor([2, -3.4])\n",
    "true_b = 4.2\n",
    "features, labels = d2l.synthetic_data(true_w, true_b, 1000)"
   ]
  },
  {
   "cell_type": "code",
   "execution_count": 3,
   "metadata": {},
   "outputs": [],
   "source": [
    "def load_array(data_arrays, batch_size, is_train=True):\n",
    "    dataset = data.TensorDataset(*data_arrays)\n",
    "    return data.DataLoader(dataset, batch_size, shuffle=is_train)\n",
    "\n",
    "batch_size = 10\n",
    "data_iter = load_array((features, labels), batch_size)"
   ]
  },
  {
   "cell_type": "code",
   "execution_count": 4,
   "metadata": {},
   "outputs": [],
   "source": [
    "net = nn.Sequential(nn.Linear(2, 1))  # 2表示两个参数输入，1表示一个输出\n",
    "\"\"\"\n",
    "当前net的输出:\n",
    "    Sequential(\n",
    "    (0): Linear(in_features=2, out_features=1, bias=True)\n",
    "    )\n",
    "\"\"\"\n",
    "\n",
    "net[0].weight.data.normal_(0, 0.01)  # 使用_方法改变初始的w, [0]表示神经网络第一图层\n",
    "net[0].bias.data.fill_(0)  # 使用_方法改变初始的b, [0]表示神经网络第一图层\n",
    "\n",
    "loss = nn.MSELoss()  # 均方损失函数\n",
    "\n",
    "trainer = torch.optim.SGD(net.parameters(), lr=0.03)  # net.parameters()可以自动获取模型中优化的参数"
   ]
  },
  {
   "cell_type": "code",
   "execution_count": null,
   "metadata": {},
   "outputs": [],
   "source": [
    "num_epochs = 10\n",
    "for epoch in range(num_epochs):\n",
    "    for X, y in data_iter:\n",
    "        l = loss(net(X), y)  # 通过loss函数求出误差\n",
    "        trainer.zero_grad()  # 清除之前for循环的求导\n",
    "        l.backward()  # l在这里会被pytorch发现对应一个函数，会反向传播, 自动求导\n",
    "        trainer.step()\n",
    "    l = loss(net(features), labels)  # 计算总误差\n",
    "    print(f'epoch {epoch + 1}, loss {l:f}')\n",
    "\n",
    "w = net[0].weight.data\n",
    "print('w的估计误差:', true_w - w.reshape(true_w.shape))\n",
    "b = net[0].bias.data\n",
    "print('b的估计误差:', true_b - b)\n"
   ]
  }
 ],
 "metadata": {
  "kernelspec": {
   "display_name": "Python 3.7.11 ('pytorch')",
   "language": "python",
   "name": "python3"
  },
  "language_info": {
   "codemirror_mode": {
    "name": "ipython",
    "version": 3
   },
   "file_extension": ".py",
   "mimetype": "text/x-python",
   "name": "python",
   "nbconvert_exporter": "python",
   "pygments_lexer": "ipython3",
   "version": "3.7.11"
  },
  "orig_nbformat": 4,
  "vscode": {
   "interpreter": {
    "hash": "71342f419acc3ba6ae382518c4ba2a9e6f9bd8751a76a463bc8e77674675b221"
   }
  }
 },
 "nbformat": 4,
 "nbformat_minor": 2
}
